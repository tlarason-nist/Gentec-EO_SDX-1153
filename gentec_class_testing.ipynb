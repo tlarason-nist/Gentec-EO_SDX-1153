{
 "cells": [
  {
   "cell_type": "code",
   "execution_count": 3,
   "metadata": {},
   "outputs": [],
   "source": [
    "from gentec.gentec1153utils import SDX1153\n",
    "gentec = SDX1153(port = \"COM18\")"
   ]
  },
  {
   "cell_type": "code",
   "execution_count": 5,
   "metadata": {},
   "outputs": [
    {
     "data": {
      "text/plain": [
       "True"
      ]
     },
     "execution_count": 5,
     "metadata": {},
     "output_type": "execute_result"
    }
   ],
   "source": [
    "gentec.IsConnected()"
   ]
  },
  {
   "cell_type": "code",
   "execution_count": 16,
   "metadata": {},
   "outputs": [
    {
     "name": "stdout",
     "output_type": "stream",
     "text": [
      "test\n",
      "sdfasfd\n",
      "else\n"
     ]
    }
   ],
   "source": [
    "print(\"test\")\n",
    "COM_sn = input(\"Enter Amp serial # or Q to quit: \")\n",
    "print(COM_sn)\n",
    "if \"Q\" in COM_sn or \"q\" in COM_sn:\n",
    "# if \"Q\" in COM_sn:\n",
    "    print(\"Quit\")\n",
    "else:\n",
    "    print(\"else\")"
   ]
  },
  {
   "cell_type": "code",
   "execution_count": null,
   "metadata": {},
   "outputs": [],
   "source": [
    "ampid = gentec.AmpID()\n",
    "print(ampid)"
   ]
  },
  {
   "cell_type": "code",
   "execution_count": 9,
   "metadata": {},
   "outputs": [],
   "source": [
    "## Test of saving data with ampid information\n",
    "## Replace amp_test_file with variable to programmatically change where the data file is saved\n",
    "amp_file = \"C:/Users/tlarason/git_repositories/lab_instruments/Amp_Data/\" + \"amp_test_file.csv\"\n",
    "with open(amp_file,\"w\") as openedfile: # \"a\" for appending to file, creates file if not existant\n",
    "    openedfile.write(ampid)"
   ]
  },
  {
   "cell_type": "code",
   "execution_count": 13,
   "metadata": {},
   "outputs": [
    {
     "name": "stdout",
     "output_type": "stream",
     "text": [
      "7\n"
     ]
    }
   ],
   "source": [
    "gain_out = gentec.Get_Gain()\n",
    "print(gain_out)"
   ]
  },
  {
   "cell_type": "code",
   "execution_count": 12,
   "metadata": {},
   "outputs": [
    {
     "name": "stdout",
     "output_type": "stream",
     "text": [
      "None\n"
     ]
    }
   ],
   "source": [
    "gain_in = 7\n",
    "gain_respn = gentec.Set_Gain(gain_in)\n",
    "print(gain_respn)"
   ]
  },
  {
   "cell_type": "code",
   "execution_count": 1,
   "metadata": {},
   "outputs": [
    {
     "ename": "NameError",
     "evalue": "name 'gentec' is not defined",
     "output_type": "error",
     "traceback": [
      "\u001b[1;31m---------------------------------------------------------------------------\u001b[0m",
      "\u001b[1;31mNameError\u001b[0m                                 Traceback (most recent call last)",
      "Cell \u001b[1;32mIn[1], line 1\u001b[0m\n\u001b[1;32m----> 1\u001b[0m \u001b[43mgentec\u001b[49m\u001b[38;5;241m.\u001b[39mClose()\n",
      "\u001b[1;31mNameError\u001b[0m: name 'gentec' is not defined"
     ]
    }
   ],
   "source": [
    "gentec.Close()"
   ]
  },
  {
   "cell_type": "code",
   "execution_count": 4,
   "metadata": {},
   "outputs": [
    {
     "name": "stdout",
     "output_type": "stream",
     "text": [
      "COM18 Connected!\n"
     ]
    }
   ],
   "source": [
    "gentec.Connect()"
   ]
  },
  {
   "cell_type": "code",
   "execution_count": null,
   "metadata": {},
   "outputs": [],
   "source": [
    "mfg_date = \" 2013-03\" # date is optional\n",
    "mfg_in_respn = gentec.Set_Mfg(mfg_date) # set instrument manufacturer\n",
    "print(mfg_in_respn)"
   ]
  },
  {
   "cell_type": "code",
   "execution_count": null,
   "metadata": {},
   "outputs": [],
   "source": [
    "## Ask operator for amplifer serial number.\n",
    "snm = int(input(\"Enter amplifer serial number.\"))\n",
    "#snm = \"501946\"\n",
    "snm_in_respn = gentec.Set_SN(snm) # set instrument serial number\n",
    "print(snm_in_respn)"
   ]
  },
  {
   "cell_type": "code",
   "execution_count": 17,
   "metadata": {},
   "outputs": [],
   "source": [
    "gentec2 = SDX1153(port = \"COM18\")"
   ]
  },
  {
   "cell_type": "code",
   "execution_count": 18,
   "metadata": {},
   "outputs": [
    {
     "name": "stdout",
     "output_type": "stream",
     "text": [
      "COM18 Disconnected!\n",
      "\n"
     ]
    }
   ],
   "source": [
    "gentec2.Close()"
   ]
  }
 ],
 "metadata": {
  "kernelspec": {
   "display_name": "py310",
   "language": "python",
   "name": "python3"
  },
  "language_info": {
   "codemirror_mode": {
    "name": "ipython",
    "version": 3
   },
   "file_extension": ".py",
   "mimetype": "text/x-python",
   "name": "python",
   "nbconvert_exporter": "python",
   "pygments_lexer": "ipython3",
   "version": "3.10.10"
  },
  "orig_nbformat": 4
 },
 "nbformat": 4,
 "nbformat_minor": 2
}
